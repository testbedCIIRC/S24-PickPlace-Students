{
 "cells": [
  {
   "cell_type": "code",
   "execution_count": 1,
   "metadata": {},
   "outputs": [
    {
     "name": "stderr",
     "output_type": "stream",
     "text": [
      "C:\\Users\\siram\\AppData\\Local\\Packages\\PythonSoftwareFoundation.Python.3.11_qbz5n2kfra8p0\\LocalCache\\local-packages\\Python311\\site-packages\\tqdm\\auto.py:21: TqdmWarning: IProgress not found. Please update jupyter and ipywidgets. See https://ipywidgets.readthedocs.io/en/stable/user_install.html\n",
      "  from .autonotebook import tqdm as notebook_tqdm\n",
      "C:\\Users\\siram\\AppData\\Local\\Packages\\PythonSoftwareFoundation.Python.3.11_qbz5n2kfra8p0\\LocalCache\\local-packages\\Python311\\site-packages\\transformers\\utils\\generic.py:441: UserWarning: torch.utils._pytree._register_pytree_node is deprecated. Please use torch.utils._pytree.register_pytree_node instead.\n",
      "  _torch_pytree._register_pytree_node(\n"
     ]
    }
   ],
   "source": [
    "#built in\n",
    "import os \n",
    "import time\n",
    "#remote \n",
    "# !pip install ultralytics\n",
    "from ultralytics import YOLO\n",
    "import torch\n",
    "#local\n",
    "from GenerateSyntheticDataset import generate_dataset"
   ]
  },
  {
   "cell_type": "code",
   "execution_count": 2,
   "metadata": {},
   "outputs": [
    {
     "data": {
      "text/html": [
       "\n",
       "      <iframe id=\"tensorboard-frame-3ae9567ecefb37f1\" width=\"100%\" height=\"800\" frameborder=\"0\">\n",
       "      </iframe>\n",
       "      <script>\n",
       "        (function() {\n",
       "          const frame = document.getElementById(\"tensorboard-frame-3ae9567ecefb37f1\");\n",
       "          const url = new URL(\"/\", window.location);\n",
       "          const port = 6006;\n",
       "          if (port) {\n",
       "            url.port = port;\n",
       "          }\n",
       "          frame.src = url;\n",
       "        })();\n",
       "      </script>\n",
       "    "
      ],
      "text/plain": [
       "<IPython.core.display.HTML object>"
      ]
     },
     "metadata": {},
     "output_type": "display_data"
    }
   ],
   "source": [
    "%load_ext tensorboard\n",
    "%tensorboard --logdir runs/"
   ]
  },
  {
   "cell_type": "code",
   "execution_count": 3,
   "metadata": {},
   "outputs": [],
   "source": [
    "PATH_DATASET_YAML = \"cv_pick_place/neural_nets/data.yaml\"\n",
    "PATH_DATASET =\"cv_pick_place/neural_nets/dataset/GeneratedDataset\"\n",
    "TRAIN  = True\n",
    "GENERATE = False\n",
    "EPOCHS = 30\n",
    "GENERATE_NR_IMAGES = 10000"
   ]
  },
  {
   "cell_type": "code",
   "execution_count": 4,
   "metadata": {},
   "outputs": [],
   "source": [
    "if(GENERATE == True):\n",
    "            generate_dataset(GENERATE_NR_IMAGES,segmentation=True)"
   ]
  },
  {
   "cell_type": "code",
   "execution_count": 5,
   "metadata": {},
   "outputs": [],
   "source": [
    "def train(model_path,seg =True):\n",
    "    try:\n",
    "            os.path.isfile(PATH_DATASET_YAML)\n",
    "    except FileNotFoundError:\n",
    "            print(f\"Yaml file is missing {PATH_DATASET_YAML}\")\n",
    "    \n",
    "    if(seg==False):\n",
    "              # use 'yolov8n.pt' to start fresh\n",
    "            try:\n",
    "                model = YOLO(model_path)\n",
    "            except FileNotFoundError:\n",
    "                print(\"Model not found, retraining from scratch with YoloV8n\")\n",
    "                model = YOLO('yolov8n.pt')\n",
    "    if(seg == False):\n",
    "            \n",
    "            try:\n",
    "                model = YOLO(model_path)\n",
    "            except FileNotFoundError:\n",
    "                print(\"Model not found, retraining from scratch with YoloV8n\")\n",
    "                model = YOLO('yolov8n-seg.pt')\n",
    "\n",
    "     #check if using cuda\n",
    "    if torch.cuda.is_available():\n",
    "        print(\"Using GPU\")\n",
    "        model.cuda()\n",
    "            \n",
    "        \n",
    "        start = time.time()\n",
    "        # if curr_os == 'Windows':\n",
    "        #     print('Using Windows')\n",
    "        results = model.train(data=PATH_DATASET_YAML, epochs=EPOCHS)\n",
    "        # else:\n",
    "        #     print('Using Linux')\n",
    "        #     results = model.train(data='generated_dataset.yaml', epochs=EPOCHS)\n",
    "        end = time.time()\n",
    "        \n",
    "        # Save the results\n",
    "        # results['Epochs'] = EPOCHS\n",
    "        # results['Time training'] = end - start\n",
    "        print(\"Training finished\")"
   ]
  },
  {
   "cell_type": "code",
   "execution_count": 6,
   "metadata": {},
   "outputs": [
    {
     "name": "stdout",
     "output_type": "stream",
     "text": [
      "Using GPU\n"
     ]
    },
    {
     "ename": "UnboundLocalError",
     "evalue": "cannot access local variable 'model' where it is not associated with a value",
     "output_type": "error",
     "traceback": [
      "\u001b[1;31m---------------------------------------------------------------------------\u001b[0m",
      "\u001b[1;31mUnboundLocalError\u001b[0m                         Traceback (most recent call last)",
      "Cell \u001b[1;32mIn[6], line 2\u001b[0m\n\u001b[0;32m      1\u001b[0m \u001b[38;5;28;01mif\u001b[39;00m(TRAIN\u001b[38;5;241m==\u001b[39m \u001b[38;5;28;01mTrue\u001b[39;00m):\n\u001b[1;32m----> 2\u001b[0m     \u001b[43mtrain\u001b[49m\u001b[43m(\u001b[49m\u001b[38;5;124;43m\"\u001b[39;49m\u001b[38;5;124;43mruns/segment/train/weighs/best.pt\u001b[39;49m\u001b[38;5;124;43m\"\u001b[39;49m\u001b[43m)\u001b[49m\n",
      "Cell \u001b[1;32mIn[5], line 25\u001b[0m, in \u001b[0;36mtrain\u001b[1;34m(model_path, seg)\u001b[0m\n\u001b[0;32m     23\u001b[0m \u001b[38;5;28;01mif\u001b[39;00m torch\u001b[38;5;241m.\u001b[39mcuda\u001b[38;5;241m.\u001b[39mis_available():\n\u001b[0;32m     24\u001b[0m     \u001b[38;5;28mprint\u001b[39m(\u001b[38;5;124m\"\u001b[39m\u001b[38;5;124mUsing GPU\u001b[39m\u001b[38;5;124m\"\u001b[39m)\n\u001b[1;32m---> 25\u001b[0m     \u001b[43mmodel\u001b[49m\u001b[38;5;241m.\u001b[39mcuda()\n\u001b[0;32m     28\u001b[0m     start \u001b[38;5;241m=\u001b[39m time\u001b[38;5;241m.\u001b[39mtime()\n\u001b[0;32m     29\u001b[0m     \u001b[38;5;66;03m# if curr_os == 'Windows':\u001b[39;00m\n\u001b[0;32m     30\u001b[0m     \u001b[38;5;66;03m#     print('Using Windows')\u001b[39;00m\n",
      "\u001b[1;31mUnboundLocalError\u001b[0m: cannot access local variable 'model' where it is not associated with a value"
     ]
    }
   ],
   "source": [
    "if(TRAIN== True):\n",
    "    train(\"runs/segment/train/weighs/best.pt\")"
   ]
  },
  {
   "cell_type": "code",
   "execution_count": 7,
   "metadata": {},
   "outputs": [
    {
     "data": {
      "text/plain": [
       "True"
      ]
     },
     "execution_count": 7,
     "metadata": {},
     "output_type": "execute_result"
    }
   ],
   "source": []
  }
 ],
 "metadata": {
  "kernelspec": {
   "display_name": "Python 3",
   "language": "python",
   "name": "python3"
  },
  "language_info": {
   "codemirror_mode": {
    "name": "ipython",
    "version": 3
   },
   "file_extension": ".py",
   "mimetype": "text/x-python",
   "name": "python",
   "nbconvert_exporter": "python",
   "pygments_lexer": "ipython3",
   "version": "3.11.8"
  }
 },
 "nbformat": 4,
 "nbformat_minor": 2
}
